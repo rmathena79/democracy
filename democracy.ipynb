{
 "cells": [
  {
   "cell_type": "markdown",
   "id": "a2d9a3a1-d254-4efc-8658-b280d6df268d",
   "metadata": {},
   "source": [
    "### 2016 - 2020 Presidential Election Comparison"
   ]
  },
  {
   "cell_type": "code",
   "execution_count": 1,
   "id": "a22b0e6d-3840-46ef-80b3-1359bbf5fff9",
   "metadata": {},
   "outputs": [],
   "source": [
    "# Imports\n",
    "import os\n",
    "import pandas as pd\n",
    "from zipfile import ZipFile"
   ]
  },
  {
   "cell_type": "code",
   "execution_count": 2,
   "id": "79de7c01-fd42-48b2-949f-031372827512",
   "metadata": {},
   "outputs": [],
   "source": [
    "def print_df_overview(df, title):        \n",
    "    print(f\"{title} DF Head:\")\n",
    "    print(df.head())\n",
    "    print(\"----------------------------------\")\n",
    "    print(f\"{title} DF dtypes:\")\n",
    "    print(df.dtypes)\n",
    "    \n",
    "    for col in df.columns:\n",
    "        print(\"----------------------------------\")\n",
    "        print(f\"{title} DF column value counts:\")\n",
    "\n",
    "        ABRIDGED_ROWS = 16\n",
    "        counts = df[col].value_counts()\n",
    "        if counts.size < 2*ABRIDGED_ROWS:\n",
    "            # Print the counts all together\n",
    "            print(col, \"counts:\")    \n",
    "            print(counts)\n",
    "        else:\n",
    "            # Print top and bottom counts\n",
    "            print(col, \"top counts:\")\n",
    "            print(counts[0:ABRIDGED_ROWS])\n",
    "            print(col, \"bottom counts:\")\n",
    "            print(counts[-ABRIDGED_ROWS:])"
   ]
  },
  {
   "cell_type": "code",
   "execution_count": 3,
   "id": "bfdc18fd-101f-4010-be6d-4182198afde8",
   "metadata": {},
   "outputs": [
    {
     "name": "stdout",
     "output_type": "stream",
     "text": [
      "Unzipping .\\resources\\2016\\2016-precinct-president.csv.zip to .\\resources\\2016\n",
      "Unzipping .\\resources\\2020\\PRESIDENT_precinct_general.csv.zip to .\\resources\\2020\n"
     ]
    }
   ],
   "source": [
    "# The data files are too big to naively manage in git, so they are stored as zip files.\n",
    "def unzip(zip, where):\n",
    "    with ZipFile(zip, 'r') as zObject:   \n",
    "        print(f\"Unzipping {zip} to {where}\")\n",
    "        zObject.extractall(path=where) \n",
    "        \n",
    "path_2016 = os.path.join('.', 'resources', '2016')\n",
    "path_2016_csv = os.path.join('.', 'resources', '2016', '2016-precinct-president.csv')\n",
    "path_2016_zip = os.path.join('.', 'resources', '2016', '2016-precinct-president.csv.zip')\n",
    "path_2020 = os.path.join('.', 'resources', '2020')\n",
    "path_2020_csv = os.path.join('.', 'resources', '2020', 'PRESIDENT_precinct_general.csv')\n",
    "path_2020_zip = os.path.join('.', 'resources', '2020', 'PRESIDENT_precinct_general.csv.zip')\n",
    "\n",
    "unzip(path_2016_zip, path_2016)\n",
    "unzip(path_2020_zip, path_2020)"
   ]
  },
  {
   "cell_type": "code",
   "execution_count": 4,
   "id": "6bc17dac-4ee0-4a64-bd25-d0e3c5fd8eec",
   "metadata": {},
   "outputs": [
    {
     "data": {
      "text/plain": [
       "((1989234, 37), (1982581, 25))"
      ]
     },
     "execution_count": 4,
     "metadata": {},
     "output_type": "execute_result"
    }
   ],
   "source": [
    "# Read raw data -- takes several seconds\n",
    "\n",
    "# Encoding wasn't documented but ISO-8859-1 seems to work fine. \n",
    "# Some data types specified here to suppress warnings -- they're actually provided for 2020\n",
    "raw_2016_df = pd.read_csv(path_2016_csv, encoding=\"ISO-8859-1\", \n",
    "                          dtype={\"precinct\":str, \"district\":str, \"party\":str, \"candidate_fec\":str, \"candidate_fec_name\":str, \"votes\":int} )\n",
    "\n",
    "# These come straight from the data documentation:\n",
    "official_2020_dtypes = {'precinct':str,'office':str, 'party_detailed':str, \n",
    "\t\t'party_simplified':str,'mode':str,'votes':int, 'county_name':str,\n",
    "\t\t'county_fips':str, 'jurisdiction_name':str,'jurisdiction_fips':str,\n",
    "\t\t'candidate':str, 'district':str, 'dataverse':str,'year':int,\n",
    "\t\t'stage':str, 'state':str, 'special':str, 'writein':str, 'state_po':str,\n",
    "\t\t'state_fips':str, 'state_cen':str, 'state_ic':str, 'date':str, \n",
    "\t\t'readme_check':str,'magnitude':int}\n",
    "raw_2020_df = pd.read_csv(path_2020_csv, encoding=\"ISO-8859-1\", dtype=official_2020_dtypes )\n",
    "\n",
    "raw_2016_df.shape, raw_2020_df.shape"
   ]
  },
  {
   "cell_type": "code",
   "execution_count": 5,
   "id": "1220c5b9-a43a-4d91-a558-514e41a0bcee",
   "metadata": {},
   "outputs": [
    {
     "name": "stdout",
     "output_type": "stream",
     "text": [
      "Initial:                  (1989234, 37) (1982581, 25)\n",
      "Drop adjustments:         (1988506, 37) (1982207, 25)\n",
      "Drop negative votes:      (1988502, 37) (1974972, 25)\n",
      "Drop extraneous columns:  (1988502, 4) (1974972, 4)\n",
      "2016:\n",
      "Original: 1989234 rows,  140070880 votes\n",
      "Cleaned:  1988502 rows,  140064901 votes -- 99.963% and 99.996%\n",
      "2020:\n",
      "Original: 1982581 rows,  157743486 votes\n",
      "Cleaned:  1974972 rows,  157753369 votes -- 99.616% and 100.006%\n"
     ]
    }
   ],
   "source": [
    "# Get ready to clean up\n",
    "c_2016_df = raw_2016_df.copy()\n",
    "c_2020_df = raw_2020_df.copy()\n",
    "print(\"Initial:                 \", c_2016_df.shape, c_2020_df.shape)\n",
    "\n",
    "# Results include \"statistial adjustments\" which I'm ignoring for the moment\n",
    "c_2016_df = c_2016_df.drop(c_2016_df[c_2016_df.precinct == \"Statistical Adjustments\"].index)\n",
    "c_2020_df = c_2020_df.drop(c_2020_df[c_2020_df.jurisdiction_name == \"{STATISTICAL ADJUSTMENTS}\"].index)\n",
    "print(\"Drop adjustments:        \", c_2016_df.shape, c_2020_df.shape)\n",
    "\n",
    "# Also remove any negative votes -- I don't know what they mean\n",
    "c_2016_df = c_2016_df.drop(c_2016_df[c_2016_df.votes < 0].index)\n",
    "c_2020_df = c_2020_df.drop(c_2020_df[c_2020_df.votes < 0].index)\n",
    "print(\"Drop negative votes:     \", c_2016_df.shape, c_2020_df.shape)\n",
    "\n",
    "# Narrow down to the interesting columns.\n",
    "#c_2016_df = c_2016_df.loc[:, [\"state\", \"county_name\", \"jurisdiction\", \"candidate\", \"votes\"] ]\n",
    "c_2016_df = c_2016_df.loc[:, [\"state\", \"county_name\", \"candidate\", \"votes\"] ]\n",
    "#c_2020_df = c_2020_df.loc[:, [\"state\", \"county_name\", \"jurisdiction_name\", \"candidate\", \"votes\"] ]\n",
    "c_2020_df = c_2020_df.loc[:, [\"state\", \"county_name\", \"candidate\", \"votes\"] ]\n",
    "print(\"Drop extraneous columns: \", c_2016_df.shape, c_2020_df.shape)\n",
    "\n",
    "# Change a couple column names for consistency and conciseness\n",
    "c_2016_df.rename(columns={\"county_name\": \"county\"}, inplace=True)\n",
    "c_2020_df.rename(columns={\"county_name\": \"county\"}, inplace=True)\n",
    "#c_2020_df.rename(columns={\"jurisdiction_name\": \"jurisdiction\"}, inplace=True)\n",
    "\n",
    "# 2016 uses normal capitalization while 2020 uses all caps\n",
    "# So, California vs CALIFORNIA, and District of Columbia vs DISTRICT OF COLUMBIA\n",
    "# To reconcile them, force everything to lowercase.\n",
    "c_2016_df[\"state\"] = c_2016_df[\"state\"].str.lower()\n",
    "c_2016_df[\"county\"] = c_2016_df[\"county\"].str.lower()\n",
    "#c_2016_df[\"jurisdiction\"] = c_2016_df[\"jurisdiction\"].str.lower()\n",
    "c_2016_df[\"candidate\"] = c_2016_df[\"candidate\"].str.lower()\n",
    "c_2020_df[\"state\"] = c_2020_df[\"state\"].str.lower()\n",
    "c_2020_df[\"county\"] = c_2020_df[\"county\"].str.lower()\n",
    "#c_2020_df[\"jurisdiction\"] = c_2020_df[\"jurisdiction\"].str.lower()\n",
    "c_2020_df[\"candidate\"] = c_2020_df[\"candidate\"].str.lower()\n",
    "\n",
    "# County names actually say \"county\" in the 2016 data, so remove that\n",
    "c_2016_df[\"county\"] = c_2016_df[\"county\"].str.replace(\" county\", \"\")\n",
    "\n",
    "# Reconcile candidate names. Clinton and Biden are equivalent for our purposes, \n",
    "# and Biden and Trump both appear in multiple forms in the datasets.\n",
    "# Any other candidate is just \"other\".\n",
    "dem_names = [\"hillary clinton\", \"biden, joe\", \"joseph biden\", \"joseph r biden\"]\n",
    "rep_names = [\"donald trump\", \"donald j trump\"]\n",
    "combo = dem_names + rep_names\n",
    "c_2016_df.loc[~c_2016_df[\"candidate\"].isin(combo), \"candidate\"] = \"other\"\n",
    "c_2020_df.loc[~c_2020_df[\"candidate\"].isin(combo), \"candidate\"] = \"other\"\n",
    "c_2016_df.loc[c_2016_df[\"candidate\"].isin(dem_names), \"candidate\"] = \"the dem\"\n",
    "c_2016_df.loc[c_2016_df[\"candidate\"].isin(rep_names), \"candidate\"] = \"trump\"\n",
    "c_2020_df.loc[c_2020_df[\"candidate\"].isin(dem_names), \"candidate\"] = \"the dem\"\n",
    "c_2020_df.loc[c_2020_df[\"candidate\"].isin(rep_names), \"candidate\"] = \"trump\"\n",
    "\n",
    "print(\"2016:\")\n",
    "raw_rows = raw_2016_df.shape[0]\n",
    "raw_votes = raw_2016_df['votes'].sum()\n",
    "clean_rows = c_2016_df.shape[0]\n",
    "clean_votes = c_2016_df['votes'].sum()\n",
    "print(f\"Original: {raw_rows:7} rows, {raw_votes:10} votes\")\n",
    "print(f\"Cleaned:  {clean_rows:7} rows, {clean_votes:10} votes -- {clean_rows / raw_rows:.3%} and {clean_votes / raw_votes:.3%}\")\n",
    "\n",
    "print(\"2020:\")\n",
    "raw_rows = raw_2020_df.shape[0]\n",
    "raw_votes = raw_2020_df['votes'].sum()\n",
    "clean_rows = c_2020_df.shape[0]\n",
    "clean_votes = c_2020_df['votes'].sum()\n",
    "print(f\"Original: {raw_rows:7} rows, {raw_votes:10} votes\")\n",
    "print(f\"Cleaned:  {clean_rows:7} rows, {clean_votes:10} votes -- {clean_rows / raw_rows:.3%} and {clean_votes / raw_votes:.3%}\")"
   ]
  },
  {
   "cell_type": "code",
   "execution_count": 6,
   "id": "3095c450-6d56-42b7-b71a-776005c1bb93",
   "metadata": {
    "scrolled": true
   },
   "outputs": [
    {
     "data": {
      "text/plain": [
       "(           state   county candidate  votes\n",
       " 0        alabama  autauga   the dem    135\n",
       " 1        alabama  autauga     other      0\n",
       " 2        alabama  autauga     other      1\n",
       " 3        alabama  autauga     trump    218\n",
       " 4        alabama  autauga     other      4\n",
       " ...          ...      ...       ...    ...\n",
       " 1989229  wyoming   weston   the dem     63\n",
       " 1989230  wyoming   weston     other      0\n",
       " 1989231  wyoming   weston     other     28\n",
       " 1989232  wyoming   weston     other      2\n",
       " 1989233  wyoming   weston     trump    412\n",
       " \n",
       " [1988502 rows x 4 columns],\n",
       "               state   county candidate  votes\n",
       " 0        california  ventura     other      0\n",
       " 1        california  ventura   the dem      1\n",
       " 2        california  ventura     other      0\n",
       " 3        california  ventura     other      0\n",
       " 4        california  ventura     other      0\n",
       " ...             ...      ...       ...    ...\n",
       " 1982576  california     yolo     trump   1558\n",
       " 1982577  california     yolo     other      2\n",
       " 1982578  california     yolo   the dem    169\n",
       " 1982579  california     yolo     other      3\n",
       " 1982580  california     yolo     other      4\n",
       " \n",
       " [1974972 rows x 4 columns])"
      ]
     },
     "execution_count": 6,
     "metadata": {},
     "output_type": "execute_result"
    }
   ],
   "source": [
    "#print_df_overview(c_2016_df, \"2016 Cleaned\")\n",
    "#print_df_overview(c_2020_df, \"2020 Cleaned\")\n",
    "c_2016_df, c_2020_df"
   ]
  },
  {
   "cell_type": "code",
   "execution_count": 7,
   "id": "735ad167-dffa-4429-a990-3a2d22a457bf",
   "metadata": {
    "scrolled": true
   },
   "outputs": [
    {
     "name": "stdout",
     "output_type": "stream",
     "text": [
      "Combo DF DF Head:\n",
      "                           votes_2016  votes_2020\n",
      "state   county  candidate                        \n",
      "alabama autauga other           12892         516\n",
      "                the dem          5936        7503\n",
      "                trump           18172       19838\n",
      "        baldwin other           55584        1890\n",
      "                the dem         18458       24578\n",
      "----------------------------------\n",
      "Combo DF DF dtypes:\n",
      "votes_2016    int32\n",
      "votes_2020    int32\n",
      "dtype: object\n",
      "----------------------------------\n",
      "Combo DF DF column value counts:\n",
      "votes_2016 top counts:\n",
      "votes_2016\n",
      "57     12\n",
      "262    12\n",
      "130    11\n",
      "120    11\n",
      "110    10\n",
      "115    10\n",
      "171     9\n",
      "168     9\n",
      "70      9\n",
      "149     9\n",
      "215     9\n",
      "105     9\n",
      "536     9\n",
      "51      9\n",
      "53      9\n",
      "113     9\n",
      "Name: count, dtype: int64\n",
      "votes_2016 bottom counts:\n",
      "votes_2016\n",
      "3295     1\n",
      "7196     1\n",
      "2144     1\n",
      "13196    1\n",
      "15052    1\n",
      "6863     1\n",
      "1093     1\n",
      "5609     1\n",
      "633      1\n",
      "22900    1\n",
      "4208     1\n",
      "926      1\n",
      "3513     1\n",
      "19740    1\n",
      "4277     1\n",
      "3033     1\n",
      "Name: count, dtype: int64\n",
      "----------------------------------\n",
      "Combo DF DF column value counts:\n",
      "votes_2020 top counts:\n",
      "votes_2020\n",
      "66     19\n",
      "59     17\n",
      "15     17\n",
      "44     17\n",
      "57     16\n",
      "30     16\n",
      "84     15\n",
      "93     15\n",
      "168    15\n",
      "20     15\n",
      "45     15\n",
      "49     14\n",
      "111    14\n",
      "78     14\n",
      "35     14\n",
      "24     13\n",
      "Name: count, dtype: int64\n",
      "votes_2020 bottom counts:\n",
      "votes_2020\n",
      "3095      1\n",
      "64705     1\n",
      "100913    1\n",
      "2911      1\n",
      "5342      1\n",
      "5166      1\n",
      "9670      1\n",
      "51088     1\n",
      "50785     1\n",
      "286       1\n",
      "5966      1\n",
      "16192     1\n",
      "29378     1\n",
      "23168     1\n",
      "15347     1\n",
      "3107      1\n",
      "Name: count, dtype: int64\n"
     ]
    }
   ],
   "source": [
    "# Combine the dataframes, with each year getting its own column for votes\n",
    "ldf = pd.DataFrame(c_2016_df.groupby([\"state\", \"county\", \"candidate\"])[\"votes\"].sum())\n",
    "rdf = pd.DataFrame(c_2020_df.groupby([\"state\", \"county\", \"candidate\"])[\"votes\"].sum())\n",
    "combo_df = pd.merge(ldf, rdf, on=[\"state\", \"county\", \"candidate\"], suffixes=[\"_2016\", \"_2020\"])\n",
    "print_df_overview(combo_df, \"Combo DF\")\n",
    "\n",
    "# Save to CSV to enable some manual sanity checks\n",
    "combo_df.to_csv(\"combined.csv\")"
   ]
  },
  {
   "cell_type": "code",
   "execution_count": 8,
   "id": "bb95ea45-059e-43ad-9284-9358123a2ade",
   "metadata": {},
   "outputs": [
    {
     "data": {
      "text/plain": [
       "candidate\n",
       "Abraham Lincoln           1\n",
       "Absentee/Military    100005\n",
       "Affidavit             89554\n",
       "Ajay Sood                 1\n",
       "Al Gore                   1\n",
       "                      ...  \n",
       "Yogi Ananda               1\n",
       "Zeke Kimball              0\n",
       "Zoltan Istvan            19\n",
       "[Unknown]               320\n",
       "[Write-in]           469527\n",
       "Name: votes, Length: 377, dtype: int32"
      ]
     },
     "execution_count": 8,
     "metadata": {},
     "output_type": "execute_result"
    }
   ],
   "source": [
    "popular_vote = raw_2016_df.groupby(\"candidate\")[\"votes\"].sum()\n",
    "popular_vote"
   ]
  },
  {
   "cell_type": "code",
   "execution_count": null,
   "id": "2cf9a210-30f0-4302-bf12-f19839e76a88",
   "metadata": {},
   "outputs": [],
   "source": []
  }
 ],
 "metadata": {
  "kernelspec": {
   "display_name": "Python 3 (ipykernel)",
   "language": "python",
   "name": "python3"
  },
  "language_info": {
   "codemirror_mode": {
    "name": "ipython",
    "version": 3
   },
   "file_extension": ".py",
   "mimetype": "text/x-python",
   "name": "python",
   "nbconvert_exporter": "python",
   "pygments_lexer": "ipython3",
   "version": "3.10.14"
  }
 },
 "nbformat": 4,
 "nbformat_minor": 5
}
